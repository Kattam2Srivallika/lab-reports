{
 "cells": [
  {
   "cell_type": "code",
   "execution_count": 2,
   "id": "baeb4bf3",
   "metadata": {},
   "outputs": [],
   "source": [
    "import numpy as np"
   ]
  },
  {
   "cell_type": "markdown",
   "id": "f669b640",
   "metadata": {},
   "source": [
    "# Without filter"
   ]
  },
  {
   "cell_type": "code",
   "execution_count": 8,
   "id": "68e871ad",
   "metadata": {},
   "outputs": [
    {
     "data": {
      "text/plain": [
       "(array([5.46, 5.57, 5.65]),\n",
       " array([5.5929117 , 5.69971915, 5.76488426]),\n",
       " array([0.54267399, 0.54021544, 0.53327434]),\n",
       " array([64.92873129, 66.6071891 , 68.91979021]))"
      ]
     },
     "execution_count": 8,
     "metadata": {},
     "output_type": "execute_result"
    }
   ],
   "source": [
    "v_ac_input = 7.34\n",
    "loads_1 = np.array([2172, 3846, 9860])\n",
    "inp_current = np.array([2.88, 1.65, 0.64])/1000\n",
    "v_ac_1 = np.array([2.963, 3.009, 3.013])\n",
    "v_dc_1 = np.array([5.46, 5.57, 5.65])\n",
    "\n",
    "v_rms = np.sqrt(np.power(v_ac_1,2) + np.power(v_dc_1,2))\n",
    "v_max = v_rms*np.sqrt(2)\n",
    "two_v_max_by_pi = 2*v_max/(np.pi)\n",
    "r_factor_1 = v_ac_1/v_dc_1\n",
    "efficiency_1 = (np.power(v_dc_1, 2)*100/loads_1)/(v_ac_input*inp_current)\n",
    "v_dc_1, two_v_max_by_pi, r_factor_1, efficiency_1"
   ]
  },
  {
   "cell_type": "code",
   "execution_count": 4,
   "id": "582a86f7",
   "metadata": {},
   "outputs": [
    {
     "data": {
      "text/plain": [
       "(0.538721256271184, 66.81857019959408)"
      ]
     },
     "execution_count": 4,
     "metadata": {},
     "output_type": "execute_result"
    }
   ],
   "source": [
    "np.mean(r_factor_1), np.mean(efficiency_1)"
   ]
  },
  {
   "cell_type": "markdown",
   "id": "e7b98e2a",
   "metadata": {},
   "source": [
    "### Error Analysis"
   ]
  },
  {
   "cell_type": "code",
   "execution_count": 8,
   "id": "07e37416",
   "metadata": {},
   "outputs": [
    {
     "data": {
      "text/plain": [
       "(array([0.00186234, 0.00182583, 0.00180076]), 0.001056446264015296)"
      ]
     },
     "execution_count": 8,
     "metadata": {},
     "output_type": "execute_result"
    }
   ],
   "source": [
    "delta_r = np.sqrt(np.power((0.001/v_ac_1), 2) + np.power((0.01/v_dc_1), 2))\n",
    "delta_r_mean = np.sqrt(np.sum(np.power(delta_r, 2)))/3\n",
    "\n",
    "delta_r, delta_r_mean"
   ]
  },
  {
   "cell_type": "code",
   "execution_count": 12,
   "id": "686335fa",
   "metadata": {},
   "outputs": [
    {
     "data": {
      "text/plain": [
       "(array([0.00394963, 0.00386355, 0.00380879]), 0.10564462640152959)"
      ]
     },
     "execution_count": 12,
     "metadata": {},
     "output_type": "execute_result"
    }
   ],
   "source": [
    "delta_eta = np.sqrt(np.power((0.001/v_ac_1), 2) + np.power((0.02/v_dc_1), 2) + np.power((0.01/v_ac_input), 2) + np.power((1/loads_1), 2))\n",
    "delta_eta_mean = np.sqrt(np.sum(np.power(delta_r, 2)))/3\n",
    "\n",
    "delta_eta, delta_eta_mean*100"
   ]
  },
  {
   "cell_type": "markdown",
   "id": "5cef87c3",
   "metadata": {},
   "source": [
    "# With filter"
   ]
  },
  {
   "cell_type": "code",
   "execution_count": 4,
   "id": "36a7805d",
   "metadata": {},
   "outputs": [
    {
     "data": {
      "text/plain": [
       "(array([0.05011876, 0.02899885, 0.01138122]),\n",
       " array([0.10277078, 0.06126341, 0.025     ]),\n",
       " array([0.03573923, 0.02054484, 0.00813187]))"
      ]
     },
     "execution_count": 4,
     "metadata": {},
     "output_type": "execute_result"
    }
   ],
   "source": [
    "c_1 = 23.05e-6\n",
    "vac_1 = np.array([0.422, 0.252, 0.103])\n",
    "vdc_1 = np.array([8.42, 8.69, 9.05])\n",
    "ripple_factor_1 = vac_1/vdc_1\n",
    "\n",
    "c_2 = 10.4e-6\n",
    "vac_2 = np.array([0.816, 0.514, 0.224])\n",
    "vdc_2 = np.array([7.94, 8.39, 8.96])\n",
    "ripple_factor_2 = vac_2/vdc_2\n",
    "\n",
    "c_3 = 23.50e-6\n",
    "vac_3 = np.array([0.897, 1.205, 1.581])\n",
    "vdc_3 = np.array([8.46, 7.95, 7.26])\n",
    "\n",
    "c_3 = 37.47e-6\n",
    "vac_3 = np.array([0.307, 0.181, 0.074])\n",
    "vdc_3 = np.array([8.59, 8.81, 9.10])\n",
    "ripple_factor_3 = vac_3/vdc_3\n",
    "\n",
    "ripple_factor_1, ripple_factor_2, ripple_factor_3"
   ]
  }
 ],
 "metadata": {
  "kernelspec": {
   "display_name": "Python 3",
   "language": "python",
   "name": "python3"
  },
  "language_info": {
   "codemirror_mode": {
    "name": "ipython",
    "version": 3
   },
   "file_extension": ".py",
   "mimetype": "text/x-python",
   "name": "python",
   "nbconvert_exporter": "python",
   "pygments_lexer": "ipython3",
   "version": "3.10.9"
  }
 },
 "nbformat": 4,
 "nbformat_minor": 5
}
