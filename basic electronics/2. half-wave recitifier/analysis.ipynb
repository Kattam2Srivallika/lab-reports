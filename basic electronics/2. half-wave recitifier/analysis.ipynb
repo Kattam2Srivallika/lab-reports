{
 "cells": [
  {
   "cell_type": "code",
   "execution_count": 1,
   "id": "baeb4bf3",
   "metadata": {},
   "outputs": [],
   "source": [
    "import numpy as np"
   ]
  },
  {
   "cell_type": "markdown",
   "id": "f669b640",
   "metadata": {},
   "source": [
    "# Without filter"
   ]
  },
  {
   "cell_type": "code",
   "execution_count": 12,
   "id": "68e871ad",
   "metadata": {},
   "outputs": [
    {
     "data": {
      "text/plain": [
       "(array([3.127, 3.11 , 3.128]),\n",
       " array([3.16647488, 3.15571464, 3.16984613]),\n",
       " array([1.23696834, 1.24115756, 1.23849105]),\n",
       " array([33.02868506, 32.72067281, 32.80686154]))"
      ]
     },
     "execution_count": 12,
     "metadata": {},
     "output_type": "execute_result"
    }
   ],
   "source": [
    "v_ac_input = 7.56\n",
    "loads_1 = np.array([2200, 1000, 1500])\n",
    "inp_current = np.array([1.78, 3.91, 2.63])/1000\n",
    "v_ac_1 = np.array([3.868, 3.860, 3.874])\n",
    "v_dc_1 = np.array([3.127, 3.110, 3.128])\n",
    "\n",
    "v_rms = np.sqrt(np.power(v_ac_1,2) + np.power(v_dc_1,2))\n",
    "v_max = v_rms*2\n",
    "v_max_by_pi = v_max/(np.pi)\n",
    "r_factor_1 = v_ac_1/v_dc_1\n",
    "efficiency_1 = (np.power(v_dc_1, 2)*100/loads_1)/(v_ac_input*inp_current)\n",
    "v_dc_1, v_max_by_pi, r_factor_1, efficiency_1"
   ]
  },
  {
   "cell_type": "code",
   "execution_count": 13,
   "id": "582a86f7",
   "metadata": {},
   "outputs": [
    {
     "data": {
      "text/plain": [
       "(1.238872315041893, 32.85207313677853)"
      ]
     },
     "execution_count": 13,
     "metadata": {},
     "output_type": "execute_result"
    }
   ],
   "source": [
    "np.mean(r_factor_1), np.mean(efficiency_1)"
   ]
  },
  {
   "cell_type": "markdown",
   "id": "5cef87c3",
   "metadata": {},
   "source": [
    "# With filter"
   ]
  },
  {
   "cell_type": "code",
   "execution_count": 8,
   "id": "36a7805d",
   "metadata": {},
   "outputs": [
    {
     "data": {
      "text/plain": [
       "(array([0.21440329, 0.30230061, 0.42233857]),\n",
       " array([0.0985782 , 0.13992347, 0.20177839]),\n",
       " array([0.10602837, 0.15157233, 0.2177686 ]),\n",
       " array([0.07355932, 0.105     , 0.15211268]))"
      ]
     },
     "execution_count": 8,
     "metadata": {},
     "output_type": "execute_result"
    }
   ],
   "source": [
    "loads_2 = np.array([2200, 1500, 1000])\n",
    "\n",
    "c_1 = 10.71e-6\n",
    "vac_1 = np.array([1.563, 1.971, 2.420])\n",
    "vdc_1 = np.array([7.29, 6.52, 5.73])\n",
    "ripple_factor_1 = vac_1/vdc_1\n",
    "\n",
    "c_2 = 28.83e-6\n",
    "vac_2 = np.array([0.832, 1.097, 1.475])\n",
    "vdc_2 = np.array([8.44, 7.84, 7.31])\n",
    "ripple_factor_2 = vac_2/vdc_2\n",
    "\n",
    "c_3 = 23.50e-6\n",
    "vac_3 = np.array([0.897, 1.205, 1.581])\n",
    "vdc_3 = np.array([8.46, 7.95, 7.26])\n",
    "ripple_factor_3 = vac_3/vdc_3\n",
    "\n",
    "c_4 = 37.99e-6\n",
    "vac_4 = np.array([0.651, 0.882, 1.188])\n",
    "vdc_4 = np.array([8.85, 8.40, 7.81])\n",
    "ripple_factor_4 = vac_4/vdc_4\n",
    "\n",
    "ripple_factor_1, ripple_factor_2, ripple_factor_3, ripple_factor_4"
   ]
  }
 ],
 "metadata": {
  "kernelspec": {
   "display_name": "Python 3",
   "language": "python",
   "name": "python3"
  },
  "language_info": {
   "codemirror_mode": {
    "name": "ipython",
    "version": 3
   },
   "file_extension": ".py",
   "mimetype": "text/x-python",
   "name": "python",
   "nbconvert_exporter": "python",
   "pygments_lexer": "ipython3",
   "version": "3.10.9"
  }
 },
 "nbformat": 4,
 "nbformat_minor": 5
}
